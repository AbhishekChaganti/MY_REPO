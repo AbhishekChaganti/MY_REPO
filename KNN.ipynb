{
  "nbformat": 4,
  "nbformat_minor": 0,
  "metadata": {
    "colab": {
      "provenance": [],
      "authorship_tag": "ABX9TyPrzQDHmFHyo3t2ECeXYOga",
      "include_colab_link": true
    },
    "kernelspec": {
      "name": "python3",
      "display_name": "Python 3"
    },
    "language_info": {
      "name": "python"
    }
  },
  "cells": [
    {
      "cell_type": "markdown",
      "metadata": {
        "id": "view-in-github",
        "colab_type": "text"
      },
      "source": [
        "<a href=\"https://colab.research.google.com/github/AbhishekChaganti/MY_REPO/blob/main/KNN.ipynb\" target=\"_parent\"><img src=\"https://colab.research.google.com/assets/colab-badge.svg\" alt=\"Open In Colab\"/></a>"
      ]
    },
    {
      "cell_type": "code",
      "execution_count": 1,
      "metadata": {
        "colab": {
          "base_uri": "https://localhost:8080/"
        },
        "id": "-gi2YYKhZQyN",
        "outputId": "bdd3e7d0-01e4-4220-fdef-cf81ca33e1ac"
      },
      "outputs": [
        {
          "output_type": "stream",
          "name": "stdout",
          "text": [
            "   sepal.length  sepal.width  petal.length  petal.width\n",
            "0           5.1          3.5           1.4          0.2\n",
            "1           4.9          3.0           1.4          0.2\n",
            "2           4.7          3.2           1.3          0.2\n",
            "3           4.6          3.1           1.5          0.2\n",
            "4           5.0          3.6           1.4          0.2\n",
            "\n",
            "-------------------------------------------------------------------------\n",
            "Original Label            Predicted Label           Correct/Wrong            \n",
            "-------------------------------------------------------------------------\n",
            "Versicolor                Versicolor               Correct                  \n",
            "Setosa                    Setosa                   Correct                  \n",
            "Virginica                 Virginica                Correct                  \n",
            "Versicolor                Versicolor               Correct                  \n",
            "Versicolor                Versicolor               Correct                  \n",
            "Setosa                    Setosa                   Correct                  \n",
            "Versicolor                Versicolor               Correct                  \n",
            "Virginica                 Virginica                Correct                  \n",
            "Versicolor                Versicolor               Correct                  \n",
            "Versicolor                Versicolor               Correct                  \n",
            "Virginica                 Virginica                Correct                  \n",
            "Setosa                    Setosa                   Correct                  \n",
            "Setosa                    Setosa                   Correct                  \n",
            "Setosa                    Setosa                   Correct                  \n",
            "Setosa                    Setosa                   Correct                  \n",
            "-------------------------------------------------------------------------\n",
            "\n",
            "Confusion Matrix:\n",
            " [[6 0 0]\n",
            " [0 6 0]\n",
            " [0 0 3]]\n",
            "-------------------------------------------------------------------------\n",
            "\n",
            "Classification Report:\n",
            "               precision    recall  f1-score   support\n",
            "\n",
            "      Setosa       1.00      1.00      1.00         6\n",
            "  Versicolor       1.00      1.00      1.00         6\n",
            "   Virginica       1.00      1.00      1.00         3\n",
            "\n",
            "    accuracy                           1.00        15\n",
            "   macro avg       1.00      1.00      1.00        15\n",
            "weighted avg       1.00      1.00      1.00        15\n",
            "\n",
            "-------------------------------------------------------------------------\n",
            "Accuracy of the classifier is 1.00\n",
            "-------------------------------------------------------------------------\n"
          ]
        }
      ],
      "source": [
        "import numpy as np\n",
        "import pandas as pd\n",
        "from sklearn.neighbors import KNeighborsClassifier\n",
        "from sklearn.model_selection import train_test_split\n",
        "from sklearn import metrics\n",
        "# Define column names for the dataset\n",
        "names = ['sepal-length', 'sepal-width', 'petal-length', 'petal-width', 'Class']\n",
        "# Read the dataset into a pandas DataFrame\n",
        "dataset = pd.read_csv(\"/content/iris.csv\")\n",
        "# Split the dataset into features (X) and target (y)\n",
        "X = dataset.iloc[:, :-1] # All columns except the last one as features\n",
        "y = dataset.iloc[:, -1] # The last column as the target\n",
        "# Print the first few rows of the features to verify data\n",
        "print(X.head())\n",
        "# Split the dataset into training and testing sets\n",
        "Xtrain, Xtest, ytrain, ytest = train_test_split(X, y, test_size=0.10, random_state=42)\n",
        "# Create and train the K-Nearest Neighbors (KNN) classifier\n",
        "classifier = KNeighborsClassifier(n_neighbors=5).fit(Xtrain, ytrain)\n",
        "# Predict the labels for the test set\n",
        "ypred = classifier.predict(Xtest)\n",
        "# Initialize a counter for indexing\n",
        "i = 0\n",
        "print(\"\\n-------------------------------------------------------------------------\")\n",
        "print('%-25s %-25s %-25s' % ('Original Label', 'Predicted Label', 'Correct/Wrong'))\n",
        "print(\"-------------------------------------------------------------------------\")\n",
        "# Compare each original label with its prediction and print the results\n",
        "for label in ytest:\n",
        " print('%-25s %-25s' % (label, ypred[i]), end=\"\")\n",
        " if label == ypred[i]:\n",
        "  print('%-25s' % ('Correct'))\n",
        " else:\n",
        "  print('%-25s' % ('Wrong'))\n",
        " i = i + 1\n",
        "print(\"-------------------------------------------------------------------------\")\n",
        "# Display the confusion matrix\n",
        "print(\"\\nConfusion Matrix:\\n\", metrics.confusion_matrix(ytest, ypred))\n",
        "print(\"-------------------------------------------------------------------------\")\n",
        "# Display the classification report with precision, recall, and F1-score\n",
        "print(\"\\nClassification Report:\\n\", metrics.classification_report(ytest, ypred))\n",
        "print(\"-------------------------------------------------------------------------\")\n",
        "# Display the accuracy of the classifier\n",
        "print('Accuracy of the classifier is %0.2f' % metrics.accuracy_score(ytest, ypred))\n",
        "print(\"-------------------------------------------------------------------------\")"
      ]
    }
  ]
}