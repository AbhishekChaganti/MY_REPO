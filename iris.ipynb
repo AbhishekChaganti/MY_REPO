{
  "nbformat": 4,
  "nbformat_minor": 0,
  "metadata": {
    "colab": {
      "provenance": [],
      "authorship_tag": "ABX9TyMo+0P061kwqTVFaxhRnWvu",
      "include_colab_link": true
    },
    "kernelspec": {
      "name": "python3",
      "display_name": "Python 3"
    },
    "language_info": {
      "name": "python"
    }
  },
  "cells": [
    {
      "cell_type": "markdown",
      "metadata": {
        "id": "view-in-github",
        "colab_type": "text"
      },
      "source": [
        "<a href=\"https://colab.research.google.com/github/AbhishekChaganti/MY_REPO/blob/main/iris.ipynb\" target=\"_parent\"><img src=\"https://colab.research.google.com/assets/colab-badge.svg\" alt=\"Open In Colab\"/></a>"
      ]
    },
    {
      "cell_type": "code",
      "execution_count": 2,
      "metadata": {
        "colab": {
          "base_uri": "https://localhost:8080/"
        },
        "id": "pESWLObG0G0-",
        "outputId": "04dcbdd5-d3c9-47a0-b286-19b4541c0cfe"
      },
      "outputs": [
        {
          "output_type": "stream",
          "name": "stdout",
          "text": [
            "   sepal.length  sepal.width  petal.length  petal.width\n",
            "0           5.1          3.5           1.4          0.2\n",
            "1           4.9          3.0           1.4          0.2\n",
            "2           4.7          3.2           1.3          0.2\n",
            "3           4.6          3.1           1.5          0.2\n",
            "4           5.0          3.6           1.4          0.2\n",
            "\n",
            "-------------------------------------------------------------------------\n",
            "Original Label            Predicted Label           Correct/Wrong            \n",
            "-------------------------------------------------------------------------\n",
            "Versicolor                Versicolor               Correct                  \n",
            "Setosa                    Setosa                   Correct                  \n",
            "Virginica                 Virginica                Correct                  \n",
            "Versicolor                Versicolor               Correct                  \n",
            "Versicolor                Versicolor               Correct                  \n",
            "Setosa                    Setosa                   Correct                  \n",
            "Versicolor                Versicolor               Correct                  \n",
            "Virginica                 Virginica                Correct                  \n",
            "Versicolor                Versicolor               Correct                  \n",
            "Versicolor                Versicolor               Correct                  \n",
            "Virginica                 Virginica                Correct                  \n",
            "Setosa                    Setosa                   Correct                  \n",
            "Setosa                    Setosa                   Correct                  \n",
            "Setosa                    Setosa                   Correct                  \n",
            "Setosa                    Setosa                   Correct                  \n",
            "-------------------------------------------------------------------------\n",
            "\n",
            "Confusion Matrix:\n",
            " [[6 0 0]\n",
            " [0 6 0]\n",
            " [0 0 3]]\n",
            "-------------------------------------------------------------------------\n",
            "\n",
            "Classification Report:\n",
            "               precision    recall  f1-score   support\n",
            "\n",
            "      Setosa       1.00      1.00      1.00         6\n",
            "  Versicolor       1.00      1.00      1.00         6\n",
            "   Virginica       1.00      1.00      1.00         3\n",
            "\n",
            "    accuracy                           1.00        15\n",
            "   macro avg       1.00      1.00      1.00        15\n",
            "weighted avg       1.00      1.00      1.00        15\n",
            "\n",
            "-------------------------------------------------------------------------\n",
            "Accuracy of the classifier is 1.00\n",
            "-------------------------------------------------------------------------\n"
          ]
        }
      ],
      "source": [
        "import numpy as np\n",
        "import pandas as pd\n",
        "from sklearn.neighbors import KNeighborsClassifier\n",
        "from sklearn.model_selection import train_test_split\n",
        "from sklearn import metrics\n",
        "\n",
        "\n",
        "dataset = pd.read_csv(\"/content/iris.csv\")\n",
        "X = dataset.iloc[:, :-1]\n",
        "y = dataset.iloc[:, -1]\n",
        "print(X.head())\n",
        "\n",
        "\n",
        "Xtrain, Xtest, ytrain, ytest = train_test_split(X, y, test_size=0.10, random_state=42)\n",
        "\n",
        "\n",
        "classifier = KNeighborsClassifier().fit(Xtrain, ytrain)\n",
        "ypred = classifier.predict(Xtest)\n",
        "\n",
        "\n",
        "i = 0\n",
        "print(\"\\n-------------------------------------------------------------------------\")\n",
        "print('%-25s %-25s %-25s' % ('Original Label', 'Predicted Label', 'Correct/Wrong'))\n",
        "print(\"-------------------------------------------------------------------------\")\n",
        "\n",
        "\n",
        "for label in ytest:\n",
        " print('%-25s %-25s' % (label, ypred[i]), end=\"\")\n",
        " if label == ypred[i]:\n",
        "  print('%-25s' % ('Correct'))\n",
        " else:\n",
        "  print('%-25s' % ('Wrong'))\n",
        " i = i + 1\n",
        "\n",
        "\n",
        "print(\"-------------------------------------------------------------------------\")\n",
        "print(\"\\nConfusion Matrix:\\n\", metrics.confusion_matrix(ytest, ypred))\n",
        "print(\"-------------------------------------------------------------------------\")\n",
        "print(\"\\nClassification Report:\\n\", metrics.classification_report(ytest, ypred))\n",
        "print(\"-------------------------------------------------------------------------\")\n",
        "print('Accuracy of the classifier is %0.2f' % metrics.accuracy_score(ytest, ypred))\n",
        "print(\"-------------------------------------------------------------------------\")"
      ]
    }
  ]
}