{
  "nbformat": 4,
  "nbformat_minor": 0,
  "metadata": {
    "colab": {
      "provenance": [],
      "authorship_tag": "ABX9TyM2MjczgGkSobcgt2W1M6Ky",
      "include_colab_link": true
    },
    "kernelspec": {
      "name": "python3",
      "display_name": "Python 3"
    },
    "language_info": {
      "name": "python"
    }
  },
  "cells": [
    {
      "cell_type": "markdown",
      "metadata": {
        "id": "view-in-github",
        "colab_type": "text"
      },
      "source": [
        "<a href=\"https://colab.research.google.com/github/AbhishekChaganti/MY_REPO/blob/main/encoders.ipynb\" target=\"_parent\"><img src=\"https://colab.research.google.com/assets/colab-badge.svg\" alt=\"Open In Colab\"/></a>"
      ]
    },
    {
      "cell_type": "code",
      "execution_count": 1,
      "metadata": {
        "colab": {
          "base_uri": "https://localhost:8080/"
        },
        "id": "5Q40xnpuAPqp",
        "outputId": "b4373e7a-8911-4704-9552-805f11406c90"
      },
      "outputs": [
        {
          "output_type": "stream",
          "name": "stdout",
          "text": [
            "['fruit', 'fruit', 'fruit', 'vegetable', 'vegetable', 'vegetable']\n",
            "[0 0 0 1 1 1]\n",
            "\n",
            " [[0. 0. 1.]\n",
            " [1. 0. 0.]\n",
            " [0. 1. 0.]\n",
            " [1. 0. 0.]\n",
            " [0. 0. 1.]]\n"
          ]
        }
      ],
      "source": [
        "from sklearn.preprocessing import LabelEncoder\n",
        "from sklearn.preprocessing import OneHotEncoder\n",
        "import numpy as np\n",
        "\n",
        "items = ['apple', 'banana', 'orange', 'carrot', 'tomato', 'potato']\n",
        "item_types = ['fruit', 'fruit', 'fruit', 'vegetable', 'vegetable', 'vegetable']\n",
        "\n",
        "le = LabelEncoder()\n",
        "encoded_types = le.fit_transform(item_types)\n",
        "\n",
        "print(item_types)\n",
        "print(encoded_types)\n",
        "\n",
        "data = np.array(['red', 'blue', 'green', 'blue', 'red']).reshape(-1,1)\n",
        "\n",
        "oe = OneHotEncoder(sparse_output=False)\n",
        "encoded_data = oe.fit_transform(data)\n",
        "\n",
        "print('\\n',encoded_data)"
      ]
    }
  ]
}